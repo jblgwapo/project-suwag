{
 "cells": [
  {
   "cell_type": "code",
   "execution_count": 1,
   "metadata": {},
   "outputs": [
    {
     "ename": "IndentationError",
     "evalue": "expected an indented block (<ipython-input-1-57024cb20010>, line 62)",
     "output_type": "error",
     "traceback": [
      "\u001b[0;36m  File \u001b[0;32m\"<ipython-input-1-57024cb20010>\"\u001b[0;36m, line \u001b[0;32m62\u001b[0m\n\u001b[0;31m    def save(text):\u001b[0m\n\u001b[0m      ^\u001b[0m\n\u001b[0;31mIndentationError\u001b[0m\u001b[0;31m:\u001b[0m expected an indented block\n"
     ]
    }
   ],
   "source": [
    "import os\n",
    "import random\n",
    "\n",
    "ROOT_PATH =  os.path.dirname(os.path.abspath(__file__))\n",
    "#print(os.listdir(ROOT_PATH))\n",
    "text= \"\"\"I therefore conclude that typing in computer is way faster than writing some shits in paper\n",
    "This is a new line which means that there is a new paragraph to be created\n",
    "This is another paragraph to be considered and i have to make it fairly long in order to demonstrate the dynamic capabilities of the software\n",
    "\"\"\"\n",
    "text = text.upper()\n",
    "print(text.upper())\n",
    "\n",
    "#text = text.replace(' ', '~')\n",
    "\n",
    "\n",
    "seed = [ 7,8,9,10]\n",
    "\n",
    "\n",
    "\n",
    "def decode(text):\n",
    "    paragraph = text.splitlines()\n",
    "    for i in range(len(paragraph)):\n",
    "        paragraph[i] = paragraph[i].split(' ')\n",
    "    print(paragraph)\n",
    "\n",
    "\n",
    "\n",
    "\n",
    "#print(text[1])\n",
    "\n",
    "\n",
    "def Initialize():\n",
    "    result = '<html><head><title>Wow</title><style> img{ float:left;} body{ width:850px; height: 100%;}</style></head><body>'\n",
    "    result += '</body></html>'\n",
    "    return result\n",
    "\n",
    "\n",
    "\n",
    "def write_line(text):\n",
    "    cache = '<div id=\"line\">'\n",
    "    for char in text:\n",
    "        target = ROOT_PATH + '/' + char + '/'\n",
    "        width = random.choices(seed)\n",
    "        if os.path.isdir(target):\n",
    "            buff = random.choices(os.listdir(target))\n",
    "            cache += '<img src=\"' + char +'/' + str(buff[0]) + '\" height=\"16px\" width=\"' + str(width[0]) + '\">'\n",
    "    return cache + '</div>'\n",
    "\n",
    "\n",
    "\n",
    "\n",
    "def print_char(char):\n",
    "    target = ROOT_PATH + '/' + char + '/'\n",
    "    #print(deviation)\n",
    "    width = 8 + int(random.choices(range(-1, 3))[0])\n",
    "    print(width)\n",
    "    return width\n",
    "\n",
    "def print_word():\n",
    "    return 'word'\n",
    "\n",
    "def save(text):\n",
    "    cache +='</body></html>'\n",
    "    save = open( ROOT_PATH + '/index.html', 'w+')\n",
    "    save.write( result)\n",
    "    save.close()\n",
    "    print('Done!')\n",
    "\n",
    "\n",
    "\n",
    "print_char('A')\n",
    "#decode(text)\n"
   ]
  },
  {
   "cell_type": "code",
   "execution_count": null,
   "metadata": {},
   "outputs": [],
   "source": []
  }
 ],
 "metadata": {
  "kernelspec": {
   "display_name": "Python 3",
   "language": "python",
   "name": "python3"
  },
  "language_info": {
   "codemirror_mode": {
    "name": "ipython",
    "version": 3
   },
   "file_extension": ".py",
   "mimetype": "text/x-python",
   "name": "python",
   "nbconvert_exporter": "python",
   "pygments_lexer": "ipython3",
   "version": "3.7.3"
  }
 },
 "nbformat": 4,
 "nbformat_minor": 2
}
